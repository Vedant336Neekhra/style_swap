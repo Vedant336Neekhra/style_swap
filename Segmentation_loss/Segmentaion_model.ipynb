{
 "cells": [
  {
   "cell_type": "code",
   "execution_count": 1,
   "metadata": {},
   "outputs": [],
   "source": [
    "import os\n",
    "import torch\n",
    "import torch.nn as nn\n",
    "import torch.nn.functional as F\n",
    "from torchvision.models.segmentation.deeplabv3 import deeplabv3_resnet50\n",
    "\n",
    "class SegModel(nn.Module):  # todo: move to models\n",
    "    def __init__(self) -> None:\n",
    "        super().__init__()\n",
    "        self.model = deeplabv3_resnet50(pretrained=False, num_classes=3, pretrained_backbone=True)\n",
    "        ckpt = 'segmentator.pt'\n",
    "        ckpt = torch.load(ckpt, map_location='cpu')['state']\n",
    "        ckpt = {k: v for k, v in ckpt.items() if k != 'loss.weight'}\n",
    "        self.load_state_dict(ckpt)\n",
    "        self.eval().requires_grad_(False)\n",
    "\n",
    "    def forward(self, x):\n",
    "        x = self.model(x)['out']\n",
    "        x = F.softmax(x, dim=1)\n",
    "        \n",
    "        background = x[:,0].unsqueeze(1)\n",
    "        body = x[:,1].unsqueeze(1)\n",
    "        head = x[:,2].unsqueeze(1)\n",
    "        return background, body, head"
   ]
  },
  {
   "cell_type": "code",
   "execution_count": 2,
   "metadata": {},
   "outputs": [
    {
     "name": "stderr",
     "output_type": "stream",
     "text": [
      "c:\\Users\\vedan\\anaconda3\\envs\\ML_env\\lib\\site-packages\\torchvision\\models\\_utils.py:208: UserWarning: The parameter 'pretrained' is deprecated since 0.13 and may be removed in the future, please use 'weights' instead.\n",
      "  warnings.warn(\n",
      "c:\\Users\\vedan\\anaconda3\\envs\\ML_env\\lib\\site-packages\\torchvision\\models\\_utils.py:223: UserWarning: Arguments other than a weight enum or `None` for 'weights' are deprecated since 0.13 and may be removed in the future. The current behavior is equivalent to passing `weights=None`.\n",
      "  warnings.warn(msg)\n",
      "c:\\Users\\vedan\\anaconda3\\envs\\ML_env\\lib\\site-packages\\torchvision\\models\\_utils.py:208: UserWarning: The parameter 'pretrained_backbone' is deprecated since 0.13 and may be removed in the future, please use 'weights_backbone' instead.\n",
      "  warnings.warn(\n",
      "c:\\Users\\vedan\\anaconda3\\envs\\ML_env\\lib\\site-packages\\torchvision\\models\\_utils.py:223: UserWarning: Arguments other than a weight enum or `None` for 'weights_backbone' are deprecated since 0.13 and may be removed in the future. The current behavior is equivalent to passing `weights_backbone=ResNet50_Weights.IMAGENET1K_V1`. You can also use `weights_backbone=ResNet50_Weights.DEFAULT` to get the most up-to-date weights.\n",
      "  warnings.warn(msg)\n"
     ]
    }
   ],
   "source": [
    "model = SegModel()"
   ]
  },
  {
   "cell_type": "code",
   "execution_count": null,
   "metadata": {},
   "outputs": [],
   "source": []
  },
  {
   "cell_type": "code",
   "execution_count": 3,
   "metadata": {},
   "outputs": [],
   "source": [
    "import cv2\n",
    "import torchvision.transforms as transforms\n",
    "import matplotlib.pyplot as plt\n",
    "import numpy as np\n",
    "\n",
    "\n",
    "image = cv2.imread('test.png')\n",
    "image = cv2.cvtColor(image, cv2.COLOR_BGR2RGB)\n",
    "transform = transforms.ToTensor()\n",
    "tensor_image = transform(image)"
   ]
  },
  {
   "cell_type": "code",
   "execution_count": 4,
   "metadata": {},
   "outputs": [],
   "source": [
    "def semantic_loss(Ig,I,model):\n",
    "    Sbg, Sbody, Shead = model(Ig)\n",
    "    SbgI, SbodyI, SheadI = model(I)\n",
    "    M = 1 - SbodyI\n",
    "    Limg = torch.norm(M*(Ig-I), p=2) ** 2\n",
    "    Lhead = torch.norm((SheadI - Shead), p=2) ** 2\n",
    "    return Limg,Lhead\n"
   ]
  },
  {
   "cell_type": "code",
   "execution_count": 5,
   "metadata": {},
   "outputs": [
    {
     "data": {
      "text/plain": [
       "(tensor(0.), tensor(0.))"
      ]
     },
     "execution_count": 5,
     "metadata": {},
     "output_type": "execute_result"
    }
   ],
   "source": [
    "semantic_loss(tensor_image.view(1,3,490,-1),tensor_image.view(1,3,490,-1),model) # this was expected as both are same"
   ]
  }
 ],
 "metadata": {
  "kernelspec": {
   "display_name": "Python 3",
   "language": "python",
   "name": "python3"
  },
  "language_info": {
   "codemirror_mode": {
    "name": "ipython",
    "version": 3
   },
   "file_extension": ".py",
   "mimetype": "text/x-python",
   "name": "python",
   "nbconvert_exporter": "python",
   "pygments_lexer": "ipython3",
   "version": "3.8.19"
  }
 },
 "nbformat": 4,
 "nbformat_minor": 2
}
